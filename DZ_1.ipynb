{
 "cells": [
  {
   "cell_type": "markdown",
   "id": "ebe21baf",
   "metadata": {},
   "source": [
    "## Задача 1."
   ]
  },
  {
   "cell_type": "markdown",
   "id": "2f8cc861",
   "metadata": {},
   "source": [
    "### На складе лежат разные фрукты в разном количестве. Нужно написать функцию, которая на вход принимает любое количество названий фруктов и их количество, а возвращает общее количество фруктов на складе"
   ]
  },
  {
   "cell_type": "code",
   "execution_count": 84,
   "id": "4d11216a",
   "metadata": {},
   "outputs": [],
   "source": [
    "def fruits(**kwargs):\n",
    "    fruSum = sum(kwargs.values())\n",
    "    print (f'Общее количество фруктов на складе: {fruSum} шт')"
   ]
  },
  {
   "cell_type": "code",
   "execution_count": 85,
   "id": "fb37df1d",
   "metadata": {},
   "outputs": [
    {
     "name": "stdout",
     "output_type": "stream",
     "text": [
      "Общее количество фруктов на складе: 100 шт\n"
     ]
    }
   ],
   "source": [
    "fruits(fruit1=1, fruit2=2, fruit3=3, fruit4 = 94)"
   ]
  },
  {
   "cell_type": "markdown",
   "id": "18df5618",
   "metadata": {},
   "source": [
    "## Задача 2."
   ]
  },
  {
   "cell_type": "markdown",
   "id": "850d3aca",
   "metadata": {},
   "source": [
    "### Дан список с затратами на рекламу. Но в данных есть ошибки, некоторые затраты имеют отрицательную величину. Удалите такие значения из списка и посчитайте суммарные затраты. Используйте list comprehensions"
   ]
  },
  {
   "cell_type": "code",
   "execution_count": 53,
   "id": "2932c3d3",
   "metadata": {},
   "outputs": [],
   "source": [
    "mark_costs = [100, 125, -90, 345, 655, -1, 0, 200]"
   ]
  },
  {
   "cell_type": "code",
   "execution_count": 80,
   "id": "07eee2aa",
   "metadata": {},
   "outputs": [
    {
     "name": "stdout",
     "output_type": "stream",
     "text": [
      "Суммарные затраты на рекламу (без отрицательных величин): 1425\n"
     ]
    }
   ],
   "source": [
    "costs = sum([i for i in mark_costs if i > 0 ])\n",
    "print (f'Суммарные затраты на рекламу (без отрицательных величин): {costs}')"
   ]
  },
  {
   "cell_type": "markdown",
   "id": "61dd13ab",
   "metadata": {},
   "source": [
    "## Задача 3."
   ]
  },
  {
   "cell_type": "markdown",
   "id": "88864fe7",
   "metadata": {},
   "source": [
    "### Даны два списка. Дата покупки и Суммы покупок по датам. Найдите, какая выручка у компании в ноябре. Используйте list comprehensions"
   ]
  },
  {
   "cell_type": "code",
   "execution_count": 67,
   "id": "f1a03dd3",
   "metadata": {},
   "outputs": [],
   "source": [
    "list_date = ['2021-09-14', '2021-12-15', '2021-09-08', '2021-12-05', '2021-10-09', '2021-09-30', '2021-12-22', '2021-11-29', '2021-12-24', '2021-11-26', '2021-10-27', '2021-12-18', '2021-11-09', '2021-11-23', '2021-09-27', '2021-10-02', '2021-12-27', '2021-09-20', '2021-12-13', '2021-11-01', '2021-11-09', '2021-12-06', '2021-12-08', '2021-10-09', '2021-10-31', '2021-09-30', '2021-11-09', '2021-12-13', '2021-10-26', '2021-12-09']\n",
    "list_buy = [1270, 8413, 9028, 3703, 5739, 4095, 295, 4944, 5723, 3701, 4471, 651, 7037, 4274, 6275, 4988, 6930, 2971, 6592, 2004, 2822, 519, 3406, 2732, 5015, 2008, 316, 6333, 5700, 2887]"
   ]
  },
  {
   "cell_type": "code",
   "execution_count": 87,
   "id": "62b6b1f8",
   "metadata": {},
   "outputs": [
    {
     "name": "stdout",
     "output_type": "stream",
     "text": [
      "[4944, 3701, 7037, 4274, 2004, 2822, 316]\n",
      "Сумма покупок в ноябре: 25098\n"
     ]
    }
   ],
   "source": [
    "print([list_buy[i] for i in range(0, len(list_date)) if \"-11\" in list_date[i]])\n",
    "print(f'Сумма покупок в ноябре: {sum([list_buy[i] for i in range(len(list_date)) if \"-11\" in list_date[i]])}')"
   ]
  },
  {
   "cell_type": "markdown",
   "id": "588c7746",
   "metadata": {},
   "source": [
    "## Задача 4."
   ]
  },
  {
   "cell_type": "markdown",
   "id": "de5326e7",
   "metadata": {},
   "source": [
    "### Найдите выручку компании в зависимости от месяца. Для этого напишите функцию, которая на вход принимает список с датами и список с выручкой, а на выходе словарь, где ключи - это месяцы, а значения - это выручка. Используйте аннотирование типов."
   ]
  },
  {
   "cell_type": "code",
   "execution_count": 83,
   "id": "f1d02aa2",
   "metadata": {},
   "outputs": [],
   "source": [
    "list_date1 = ['2021-09-14', '2021-12-15', '2021-09-08', '2021-12-05', '2021-10-09', '2021-09-30', '2021-12-22', '2021-11-29', '2021-12-24', '2021-11-26', '2021-10-27', '2021-12-18', '2021-11-09', '2021-11-23', '2021-09-27', '2021-10-02', '2021-12-27', '2021-09-20', '2021-12-13', '2021-11-01', '2021-11-09', '2021-12-06', '2021-12-08', '2021-10-09', '2021-10-31', '2021-09-30', '2021-11-09', '2021-12-13', '2021-10-26', '2021-12-09']\n",
    "list_buy1 = [1270, 8413, 9028, 3703, 5739, 4095, 295, 4944, 5723, 3701, 4471, 651, 7037, 4274, 6275, 4988, 6930, 2971, 6592, 2004, 2822, 519, 3406, 2732, 5015, 2008, 316, 6333, 5700, 2887]"
   ]
  },
  {
   "cell_type": "code",
   "execution_count": 94,
   "id": "4770130f",
   "metadata": {},
   "outputs": [
    {
     "name": "stdout",
     "output_type": "stream",
     "text": [
      "{'09': 25647, '12': 45452, '10': 28645, '11': 25098}\n"
     ]
    }
   ],
   "source": [
    "def month_profit (arg1: list, arg2: list) -> dict:\n",
    "    profit = {}\n",
    "    for i in range(len(arg1)):\n",
    "        if arg1[i].split('-')[1] in profit.keys():\n",
    "            profit[arg1[i].split('-')[1]] = profit[arg1[i].split('-')[1]] + arg2[i]\n",
    "        else:\n",
    "            profit[arg1[i].split('-')[1]] = arg2[i]\n",
    "    return profit    \n",
    "print(month_profit(list_date1, list_buy1))"
   ]
  },
  {
   "cell_type": "code",
   "execution_count": null,
   "id": "98d2e811",
   "metadata": {},
   "outputs": [],
   "source": []
  }
 ],
 "metadata": {
  "kernelspec": {
   "display_name": "Python 3 (ipykernel)",
   "language": "python",
   "name": "python3"
  },
  "language_info": {
   "codemirror_mode": {
    "name": "ipython",
    "version": 3
   },
   "file_extension": ".py",
   "mimetype": "text/x-python",
   "name": "python",
   "nbconvert_exporter": "python",
   "pygments_lexer": "ipython3",
   "version": "3.10.9"
  }
 },
 "nbformat": 4,
 "nbformat_minor": 5
}
